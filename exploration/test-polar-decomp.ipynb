{
 "cells": [
  {
   "cell_type": "code",
   "execution_count": 6,
   "id": "db5e9dc9-d352-49c9-9ddf-089cca8848bf",
   "metadata": {
    "tags": []
   },
   "outputs": [],
   "source": [
    "import torch\n",
    "from diffusion.diffusion_helpers import polar_decomposition"
   ]
  },
  {
   "cell_type": "code",
   "execution_count": 8,
   "id": "da6d3fbd-89d5-469d-a5ae-c6a8ea86837d",
   "metadata": {
    "tags": []
   },
   "outputs": [
    {
     "data": {
      "text/plain": [
       "(tensor([[[1., 0., 0.],\n",
       "          [0., 1., 0.],\n",
       "          [0., 0., 1.]]]),\n",
       " tensor([[[1., 0., 0.],\n",
       "          [0., 1., 0.],\n",
       "          [0., 0., 1.]]]))"
      ]
     },
     "execution_count": 8,
     "metadata": {},
     "output_type": "execute_result"
    }
   ],
   "source": [
    "lattice = torch.tensor(\n",
    "        [[1.0, 0.0, 0.0], [0.0, 1.0, 0.0], [0.0, 0.0, 1.0]]\n",
    "    ).unsqueeze(0)\n",
    "polar_decomposition(lattice)"
   ]
  },
  {
   "cell_type": "code",
   "execution_count": null,
   "id": "c086593a-87c6-4c52-bfcd-73b90ab6c550",
   "metadata": {},
   "outputs": [],
   "source": []
  }
 ],
 "metadata": {
  "kernelspec": {
   "display_name": "Python 3 (ipykernel)",
   "language": "python",
   "name": "python3"
  },
  "language_info": {
   "codemirror_mode": {
    "name": "ipython",
    "version": 3
   },
   "file_extension": ".py",
   "mimetype": "text/x-python",
   "name": "python",
   "nbconvert_exporter": "python",
   "pygments_lexer": "ipython3",
   "version": "3.11.8"
  }
 },
 "nbformat": 4,
 "nbformat_minor": 5
}
