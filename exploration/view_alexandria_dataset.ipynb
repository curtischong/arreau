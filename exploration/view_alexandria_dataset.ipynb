{
 "cells": [
  {
   "cell_type": "code",
   "execution_count": 3,
   "metadata": {},
   "outputs": [
    {
     "ename": "ModuleNotFoundError",
     "evalue": "No module named 'diffusion'",
     "output_type": "error",
     "traceback": [
      "\u001b[0;31m---------------------------------------------------------------------------\u001b[0m",
      "\u001b[0;31mModuleNotFoundError\u001b[0m                       Traceback (most recent call last)",
      "Cell \u001b[0;32mIn[3], line 1\u001b[0m\n\u001b[0;32m----> 1\u001b[0m \u001b[38;5;28;01mfrom\u001b[39;00m \u001b[38;5;21;01mdiffusion\u001b[39;00m\u001b[38;5;21;01m.\u001b[39;00m\u001b[38;5;21;01minference\u001b[39;00m\u001b[38;5;21;01m.\u001b[39;00m\u001b[38;5;21;01mvisualize_crystal\u001b[39;00m \u001b[38;5;28;01mimport\u001b[39;00m plot_crystal\n\u001b[1;32m      2\u001b[0m \u001b[38;5;28;01mfrom\u001b[39;00m \u001b[38;5;21;01mdiffusion\u001b[39;00m\u001b[38;5;21;01m.\u001b[39;00m\u001b[38;5;21;01mlattice_dataset\u001b[39;00m \u001b[38;5;28;01mimport\u001b[39;00m CrystalDataset\n\u001b[1;32m      3\u001b[0m \u001b[38;5;28;01mimport\u001b[39;00m \u001b[38;5;21;01mtorch\u001b[39;00m\n",
      "\u001b[0;31mModuleNotFoundError\u001b[0m: No module named 'diffusion'"
     ]
    }
   ],
   "source": [
    "from diffusion.inference.visualize_crystal import plot_crystal\n",
    "from diffusion.lattice_dataset import CrystalDataset\n",
    "import torch"
   ]
  },
  {
   "cell_type": "code",
   "execution_count": null,
   "metadata": {},
   "outputs": [],
   "source": [
    "dataset = CrystalDataset(\n",
    "    [\n",
    "        \"datasets/alexandria_hdf5/alexandria_ps_000.h5\",\n",
    "        # \"datasets/alexandria_hdf5/alexandria_ps_001.h5\",\n",
    "        # \"datasets/alexandria_hdf5/alexandria_ps_002.h5\",\n",
    "        # \"datasets/alexandria_hdf5/alexandria_ps_003.h5\",\n",
    "        # \"datasets/alexandria_hdf5/alexandria_ps_004.h5\",\n",
    "    ]\n",
    ")"
   ]
  },
  {
   "cell_type": "code",
   "execution_count": null,
   "metadata": {},
   "outputs": [],
   "source": [
    "system_sample = dataset[1]\n",
    "system_sample.L0, system_sample.X0, system_sample.atomic_numbers = (\n",
    "    system_sample.L0.numpy(),\n",
    "    system_sample.X0.numpy(),\n",
    "    torch.argmax(system_sample.A0).numpy(),\n",
    ")\n",
    "fig = plot_crystal(\n",
    "    atomic_numbers=system_sample.atomic_numbers,\n",
    "    lattice=system_sample.L0,\n",
    "    frac_x=system_sample.X0,\n",
    "    show_bonds=False,\n",
    ")\n",
    "fig.show()"
   ]
  }
 ],
 "metadata": {
  "kernelspec": {
   "display_name": "Python 3 (ipykernel)",
   "language": "python",
   "name": "python3"
  },
  "language_info": {
   "codemirror_mode": {
    "name": "ipython",
    "version": 3
   },
   "file_extension": ".py",
   "mimetype": "text/x-python",
   "name": "python",
   "nbconvert_exporter": "python",
   "pygments_lexer": "ipython3",
   "version": "3.12.2"
  }
 },
 "nbformat": 4,
 "nbformat_minor": 4
}
