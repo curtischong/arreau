{
 "cells": [
  {
   "cell_type": "code",
   "execution_count": null,
   "metadata": {},
   "outputs": [],
   "source": [
    "from diffusion.inference.visualize_crystal import plot_crystal, vis_crystal\n",
    "from diffusion.lattice_dataset import CrystalDataset\n",
    "import torch\n",
    "\n",
    "\n",
    "def main():\n",
    "    dataset = CrystalDataset(\n",
    "        [\n",
    "            \"datasets/alexandria_hdf5/alexandria_ps_000.h5\",\n",
    "            # \"datasets/alexandria_hdf5/alexandria_ps_001.h5\",\n",
    "            # \"datasets/alexandria_hdf5/alexandria_ps_002.h5\",\n",
    "            # \"datasets/alexandria_hdf5/alexandria_ps_003.h5\",\n",
    "            # \"datasets/alexandria_hdf5/alexandria_ps_004.h5\",\n",
    "        ]\n",
    "    )\n",
    "    system_sample = dataset[1]\n",
    "    system_sample.L0, system_sample.X0, system_sample.atomic_numbers = (\n",
    "        system_sample.L0.numpy(),\n",
    "        system_sample.X0.numpy(),\n",
    "        torch.argmax(system_sample.A0).numpy(),\n",
    "    )\n",
    "    fig = plot_crystal(\n",
    "        atomic_numbers=system_sample.atomic_numbers,\n",
    "        lattice=system_sample.L0,\n",
    "        frac_x=system_sample.X0,\n",
    "        show_bonds=False,\n",
    "    )\n",
    "    fig.show()\n",
    "\n",
    "\n",
    "if __name__ == \"__main__\":\n",
    "    main()"
   ]
  }
 ],
 "metadata": {
  "language_info": {
   "name": "python"
  }
 },
 "nbformat": 4,
 "nbformat_minor": 2
}
