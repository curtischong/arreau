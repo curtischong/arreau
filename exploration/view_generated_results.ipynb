{
 "cells": [
  {
   "cell_type": "code",
   "execution_count": 1,
   "metadata": {},
   "outputs": [],
   "source": [
    "import numpy as np\n",
    "from pymatgen.core import Structure\n",
    "\n",
    "def tile_structure(lattice, species, coordinates, scale):\n",
    "    \"\"\"\n",
    "    Tiles a structure by a given scale factor, effectively creating scale^3 more points.\n",
    "\n",
    "    Parameters:\n",
    "    - lattice: np.array, the lattice vectors of the structure.\n",
    "    - species: list, the species (types) of atoms in the structure.\n",
    "    - coordinates: np.array, the fractional coordinates of the atoms in the structure.\n",
    "    - scale: int, the scale factor to tile the lattice and coordinates.\n",
    "\n",
    "    Returns:\n",
    "    - tiled_lattice: np.array, the scaled lattice vectors.\n",
    "    - tiled_species: list, the species list repeated scale^3 times.\n",
    "    - tiled_coordinates: np.array, the tiled coordinates of the atoms.\n",
    "    \"\"\"\n",
    "    # Scale the lattice by the scale factor\n",
    "    tiled_lattice = lattice * scale * 0.75\n",
    "    \n",
    "    # Initialize list to hold the tiled coordinates\n",
    "    tiled_coordinates_list = []\n",
    "    \n",
    "    # Initialize list to hold the tiled species\n",
    "    tiled_species = []\n",
    "    \n",
    "    # Tile the structure by creating additional points in the scaled volume\n",
    "    for i in range(scale):\n",
    "        for j in range(scale):\n",
    "            for k in range(scale):\n",
    "                # Calculate new coordinates by adding the offset for tiling\n",
    "                new_coords = (coordinates + np.array([i, j, k])) / scale\n",
    "                \n",
    "                # Append the new coordinates to the list\n",
    "                tiled_coordinates_list.append(new_coords)\n",
    "                \n",
    "                # Repeat the species list for each set of new coordinates\n",
    "                tiled_species.extend(species)\n",
    "    \n",
    "    # Concatenate all coordinate arrays into a single NumPy array\n",
    "    tiled_coordinates = np.concatenate(tiled_coordinates_list, axis=0)\n",
    "    \n",
    "    return tiled_lattice, tiled_species, tiled_coordinates"
   ]
  },
  {
   "cell_type": "code",
   "execution_count": 2,
   "metadata": {},
   "outputs": [
    {
     "name": "stderr",
     "output_type": "stream",
     "text": [
      "/Users/curtischong/Documents/dev/arreau/venv/lib/python3.11/site-packages/tqdm/auto.py:21: TqdmWarning: IProgress not found. Please update jupyter and ipywidgets. See https://ipywidgets.readthedocs.io/en/stable/user_install.html\n",
      "  from .autonotebook import tqdm as notebook_tqdm\n"
     ]
    },
    {
     "name": "stdout",
     "output_type": "stream",
     "text": [
      "[[15.79874784  0.56058232  6.02132547]\n",
      " [-1.69697301 -6.40386183  6.29086178]\n",
      " [-0.30359485 10.43779833  3.21299692]]\n",
      "[[-13.59163462   1.43536013  -1.30131057]\n",
      " [  1.67636932   5.3282057    4.76477055]\n",
      " [  2.34293635 -10.01521034   5.40937591]]\n",
      "[[ 4.29453321 -8.74468624  3.93465108]\n",
      " [ 4.7676477   2.29406071  7.87832133]\n",
      " [12.67400374  4.19294791 -0.55735231]]\n",
      "[[ -3.9004972   -2.40344729  -7.80792498]\n",
      " [-15.04042562   1.52136441  -0.74485933]\n",
      " [  1.3201792   11.80250476  -1.08233446]]\n",
      "[[13.26476136  4.86083473  5.7253934 ]\n",
      " [ 4.55531033 -5.82778662 -1.94846665]\n",
      " [ 0.02245718 -8.52611097  6.30778571]]\n",
      "[[ -9.48821558 -11.10556182  -0.64729415]\n",
      " [  7.01503962  -0.17973342  -4.48720284]\n",
      " [  7.87207913  -4.12636773   6.79192356]]\n",
      "[[11.26036054  6.66946023 -2.64237584]\n",
      " [-2.79898592  9.03363937  0.61753058]\n",
      " [ 8.70692852  0.46311044  8.61465107]]\n",
      "[[ -5.52236569   2.8144148   -8.09109533]\n",
      " [-11.64311115   3.24421286  -0.20617619]\n",
      " [  8.76048464  10.18144182   0.38619645]]\n",
      "[[ -1.68234116   1.473941     8.57930139]\n",
      " [-13.78238922   3.96369503  -5.30418943]\n",
      " [ -7.6806319  -10.42286089   2.05519974]]\n",
      "[[-13.72229348  -6.49267748   0.01643753]\n",
      " [ -4.0630176   10.10254842  -3.2726482 ]\n",
      " [  3.22172916   2.20573146   8.8117143 ]]\n",
      "[[-3.00919987  0.96241718 13.04473491]\n",
      " [-6.14748025 -6.85069164  7.96816675]\n",
      " [ 7.0569014  -5.16520046 12.65750875]]\n",
      "[[-11.08596018   0.11130381  -9.22320906]\n",
      " [ -4.50224266  -4.91841121  16.46612735]\n",
      " [ -4.46811928   3.50259716   2.24587892]]\n",
      "[[-11.88266609   1.2692298   -5.51465368]\n",
      " [ -4.65948321  -2.28092049  12.15950347]\n",
      " [  2.70269747  -6.76489294  12.67579944]]\n",
      "[[  4.25671659   4.56175873 -11.210705  ]\n",
      " [ -6.62702348   4.4363685    5.18637401]\n",
      " [  6.47987356  -0.45473753  16.09629856]]\n",
      "[[  0.11550649   4.61154075 -11.33689012]\n",
      " [ 10.12208346  -2.32100146   4.88847955]\n",
      " [  0.26103641   2.31840213  14.49647649]]\n",
      "[[-5.25251629 -5.2523009  -1.46910644]\n",
      " [-1.71085109 -1.2719837  15.77858404]\n",
      " [ 8.51037171 -4.62159929  4.5132024 ]]\n",
      "[[ 8.1366569   1.00656932  8.65411709]\n",
      " [-8.80585747  5.59019683  0.7300358 ]\n",
      " [-2.32921594 -4.93673884 14.83769522]]\n",
      "[[ 6.5766739   4.8330794  -2.98570556]\n",
      " [ 9.45627188 -6.1612141  10.64552751]\n",
      " [-5.04519931 -0.35139457 13.7421505 ]]\n",
      "[[-3.15730854 -4.57391626  4.04722426]\n",
      " [-9.60092513  2.76026192 -5.8610256 ]\n",
      " [ 0.45160589 -1.75564788 15.51250654]]\n",
      "[[11.62119638  1.25629836  9.11091029]\n",
      " [-3.10436723 -3.85565867 17.91719875]\n",
      " [ 4.37610214 -4.65853727 -0.49574145]]\n"
     ]
    }
   ],
   "source": [
    "from diffusion.inference.process_generated_crystals import (\n",
    "    get_one_crystal,\n",
    "    load_sample_results_from_hdf5,\n",
    ")\n",
    "from diffusion.inference.visualize_crystal import plot_crystal\n",
    "import crystal_toolkit\n",
    "\n",
    "OUT_DIR = \"out\"\n",
    "crystal_file = f\"{OUT_DIR}/crystals.h5\"\n",
    "sample_result = load_sample_results_from_hdf5(crystal_file)\n",
    "\n",
    "for i in range(20):\n",
    "    lattice, frac_x, atomic_numbers = get_one_crystal(sample_result, i)\n",
    "    #print(lattice)\n",
    "    frac_x -= np.min(frac_x, axis=0)\n",
    "    tiled_lattice, tiled_species, tiled_coordinates = tile_structure(lattice, atomic_numbers, frac_x, 2)\n",
    "    display(Structure(tiled_lattice, tiled_species, tiled_coordinates))\n",
    "\n",
    "#fig = plot_crystal(atomic_numbers, lattice, frac_x, show_bonds=False)\n",
    "#display(fig)"
   ]
  },
  {
   "cell_type": "code",
   "execution_count": 9,
   "metadata": {},
   "outputs": [
    {
     "data": {
      "text/html": [
       "\n",
       "        <iframe\n",
       "            width=\"100%\"\n",
       "            height=\"650\"\n",
       "            src=\"http://127.0.0.1:8884/\"\n",
       "            frameborder=\"0\"\n",
       "            allowfullscreen\n",
       "            \n",
       "        ></iframe>\n",
       "        "
      ],
      "text/plain": [
       "<IPython.lib.display.IFrame at 0x2d299f550>"
      ]
     },
     "metadata": {},
     "output_type": "display_data"
    }
   ],
   "source": [
    "# Example usage:\n",
    "lattice = np.array([[5.29736053, 0., 0.],\n",
    "                    [2.64868026, 4.58764879, 0.],\n",
    "                    [2.64868026, 1.52921626, 4.32527676]])\n",
    "species = [\"Ac\", \"Ac\", \"Ir\", \"Ag\"]\n",
    "coordinates = np.array([[0.75, 0.75, 0.75],\n",
    "                        [0.25, 0.25, 0.25],\n",
    "                        [0., 0., 0.],\n",
    "                        [0.5, 0.5, 0.5]])\n",
    "scale = 2  # Example scale factor\n",
    "\n",
    "tiled_lattice, tiled_species, tiled_coordinates = tile_structure(lattice, species, coordinates, scale)\n",
    "Structure(tiled_lattice, tiled_species, tiled_coordinates)"
   ]
  }
 ],
 "metadata": {
  "kernelspec": {
   "display_name": "venv",
   "language": "python",
   "name": "venv"
  },
  "language_info": {
   "codemirror_mode": {
    "name": "ipython",
    "version": 3
   },
   "file_extension": ".py",
   "mimetype": "text/x-python",
   "name": "python",
   "nbconvert_exporter": "python",
   "pygments_lexer": "ipython3",
   "version": "3.11.8"
  }
 },
 "nbformat": 4,
 "nbformat_minor": 4
}
