{
 "cells": [
  {
   "cell_type": "code",
   "execution_count": 21,
   "metadata": {},
   "outputs": [
    {
     "data": {
      "text/html": [
       "\n",
       "        <iframe\n",
       "            width=\"100%\"\n",
       "            height=\"650\"\n",
       "            src=\"http://127.0.0.1:8884/\"\n",
       "            frameborder=\"0\"\n",
       "            allowfullscreen\n",
       "            \n",
       "        ></iframe>\n",
       "        "
      ],
      "text/plain": [
       "<IPython.lib.display.IFrame at 0x2c8078c50>"
      ]
     },
     "metadata": {},
     "output_type": "display_data"
    }
   ],
   "source": [
    "from diffusion.inference.process_generated_crystals import (\n",
    "    get_one_crystal,\n",
    "    load_sample_results_from_hdf5,\n",
    ")\n",
    "from diffusion.inference.visualize_crystal import plot_crystal\n",
    "import crystal_toolkit\n",
    "\n",
    "OUT_DIR = \"out\"\n",
    "crystal_file = f\"{OUT_DIR}/crystals.h5\"\n",
    "sample_result = load_sample_results_from_hdf5(crystal_file)\n",
    "lattice, frac_x, atomic_numbers = get_one_crystal(sample_result, 0)\n",
    "#frac_x -= np.min(frac_x, axis=0)\n",
    "\n",
    "fig = plot_crystal(atomic_numbers, lattice, frac_x, show_bonds=False)\n",
    "display(fig)"
   ]
  },
  {
   "cell_type": "code",
   "execution_count": 17,
   "metadata": {},
   "outputs": [
    {
     "data": {
      "text/plain": [
       "array([0.20036147, 0.14149386, 0.16061605])"
      ]
     },
     "execution_count": 17,
     "metadata": {},
     "output_type": "execute_result"
    }
   ],
   "source": []
  },
  {
   "cell_type": "code",
   "execution_count": 4,
   "metadata": {},
   "outputs": [],
   "source": [
    "from pymatgen.core import Structure"
   ]
  },
  {
   "cell_type": "code",
   "execution_count": 9,
   "metadata": {},
   "outputs": [
    {
     "data": {
      "text/html": [
       "\n",
       "        <iframe\n",
       "            width=\"100%\"\n",
       "            height=\"650\"\n",
       "            src=\"http://127.0.0.1:8884/\"\n",
       "            frameborder=\"0\"\n",
       "            allowfullscreen\n",
       "            \n",
       "        ></iframe>\n",
       "        "
      ],
      "text/plain": [
       "<IPython.lib.display.IFrame at 0x2c5612350>"
      ]
     },
     "metadata": {},
     "output_type": "display_data"
    }
   ],
   "source": [
    "import numpy as np\n",
    "lattice = np.array([[5.29736053, 0.        , 0.        ],\n",
    "       [2.64868026, 4.58764879, 0.        ],\n",
    "       [2.64868026, 1.52921626, 4.32527676]])\n",
    "species = [\"Ac\", \"Ac\", \"Ir\", \"Ag\"]\n",
    "coordinates = np.array([[0.75, 0.75, 0.75],\n",
    "       [0.25, 0.25, 0.25],\n",
    "       [0.  , 0.  , 0.  ],\n",
    "       [0.5 , 0.5 , 0.5 ]])\n",
    "Structure(lattice, species, coordinates)"
   ]
  },
  {
   "cell_type": "code",
   "execution_count": null,
   "metadata": {},
   "outputs": [],
   "source": []
  }
 ],
 "metadata": {
  "kernelspec": {
   "display_name": "venv",
   "language": "python",
   "name": "venv"
  },
  "language_info": {
   "codemirror_mode": {
    "name": "ipython",
    "version": 3
   },
   "file_extension": ".py",
   "mimetype": "text/x-python",
   "name": "python",
   "nbconvert_exporter": "python",
   "pygments_lexer": "ipython3",
   "version": "3.11.8"
  }
 },
 "nbformat": 4,
 "nbformat_minor": 4
}
